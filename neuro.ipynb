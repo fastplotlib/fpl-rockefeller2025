{
 "cells": [
  {
   "cell_type": "markdown",
   "id": "1e658e8c-5cd5-4e7f-bb69-70fd6fad95ba",
   "metadata": {},
   "source": [
    "# Neuroscience 🧠 using fastplotlib 🦜"
   ]
  },
  {
   "cell_type": "markdown",
   "id": "9c2ddb43-76eb-41df-abc0-b8096e916a4b",
   "metadata": {},
   "source": [
    "This notebook will build up a complex visualization using `fastplotlib`, in conjunction with `pynapple`, to show how `fastplotlib` can be a powerful tool in analysis and visualization of neural data!"
   ]
  },
  {
   "cell_type": "code",
   "execution_count": 3,
   "id": "4dc161e6-bf40-411c-b801-0826dff16bee",
   "metadata": {},
   "outputs": [],
   "source": [
    "import fastplotlib as fpl\n",
    "import pynapple as nap\n",
    "import numpy as np\n",
    "from ipywidgets import IntSlider, Layout, VBox, HBox, FloatSlider\n",
    "from sidecar import Sidecar\n",
    "from skimage import measure\n",
    "from sklearn.decomposition import PCA\n",
    "from sklearn.preprocessing import StandardScaler\n",
    "from scipy.ndimage import gaussian_filter1d\n",
    "from store_model import TimeStore"
   ]
  },
  {
   "cell_type": "code",
   "execution_count": 4,
   "id": "507bb4cd-3d42-4715-9897-5a8fbbe1b297",
   "metadata": {},
   "outputs": [],
   "source": [
    "import warnings\n",
    "warnings.simplefilter('ignore')"
   ]
  },
  {
   "cell_type": "code",
   "execution_count": 5,
   "id": "5947cc93-bae3-4641-bc52-8de48462cd06",
   "metadata": {},
   "outputs": [],
   "source": [
    "warnings.filterwarnings(\"ignore\", category=DeprecationWarning)"
   ]
  },
  {
   "cell_type": "markdown",
   "id": "0b2e429a-6008-4b2e-9298-e9418a77c189",
   "metadata": {},
   "source": [
    "## Load the data\n",
    "\n",
    "#### Recording of a freely-moving mouse imaged with a Miniscope (1-photon imaging). The area recorded is the postsubiculum - a region that is known to contain head-direction cells, or cells that fire when the animal's head is pointing in a specific direction."
   ]
  },
  {
   "cell_type": "code",
   "execution_count": 6,
   "id": "89169547-7208-4b07-b7de-3e6ca455d07a",
   "metadata": {},
   "outputs": [],
   "source": [
    "data = nap.load_file(\"./data.nwb\")"
   ]
  },
  {
   "cell_type": "code",
   "execution_count": 7,
   "id": "697b82e5-64bd-4dda-a3b9-1cee174c4de3",
   "metadata": {},
   "outputs": [
    {
     "data": {
      "text/plain": [
       "data\n",
       "┍━━━━━━━━━━━━━━━━━━━━━━━┯━━━━━━━━━━━━━┑\n",
       "│ Keys                  │ Type        │\n",
       "┝━━━━━━━━━━━━━━━━━━━━━━━┿━━━━━━━━━━━━━┥\n",
       "│ position_time_support │ IntervalSet │\n",
       "│ RoiResponseSeries     │ TsdFrame    │\n",
       "│ calcium_video         │ TsdTensor   │\n",
       "│ beh_video             │ TsdTensor   │\n",
       "│ z                     │ Tsd         │\n",
       "│ y                     │ Tsd         │\n",
       "│ x                     │ Tsd         │\n",
       "│ rz                    │ Tsd         │\n",
       "│ ry                    │ Tsd         │\n",
       "│ rx                    │ Tsd         │\n",
       "┕━━━━━━━━━━━━━━━━━━━━━━━┷━━━━━━━━━━━━━┙"
      ]
     },
     "execution_count": 7,
     "metadata": {},
     "output_type": "execute_result"
    }
   ],
   "source": [
    "data"
   ]
  },
  {
   "cell_type": "markdown",
   "id": "5902d508-0213-4e87-9f32-1880127b05bd",
   "metadata": {},
   "source": [
    "### Let's view the behavior and calcium data\n",
    "\n",
    "**NOTE:** We are going to be using a WIP `TimeStore` model to help synchronize our visualization in time. "
   ]
  },
  {
   "cell_type": "code",
   "execution_count": 8,
   "id": "d1690033-a061-4ab5-89e8-941ec83378f5",
   "metadata": {},
   "outputs": [],
   "source": [
    "time_store = TimeStore()"
   ]
  },
  {
   "cell_type": "markdown",
   "id": "0a24bd38-2de3-4143-80aa-bf6b5f2f1fb3",
   "metadata": {},
   "source": [
    "Behavior data and shape 🐭"
   ]
  },
  {
   "cell_type": "code",
   "execution_count": 9,
   "id": "f6c0607f-8787-486a-a3b7-32ad335e0e98",
   "metadata": {},
   "outputs": [
    {
     "data": {
      "text/plain": [
       "(9045, 204, 256)"
      ]
     },
     "execution_count": 9,
     "metadata": {},
     "output_type": "execute_result"
    }
   ],
   "source": [
    "behavior_data = data[\"beh_video\"]\n",
    "behavior_data.shape  # (time, x, y)"
   ]
  },
  {
   "cell_type": "markdown",
   "id": "74eba942-1dcc-447b-99a6-643300700cce",
   "metadata": {},
   "source": [
    "Calcium data and the shape 🔬"
   ]
  },
  {
   "cell_type": "code",
   "execution_count": 10,
   "id": "6b5d112c-1b31-45d0-ac6c-278420d47e6f",
   "metadata": {},
   "outputs": [
    {
     "data": {
      "text/plain": [
       "(17886, 136, 166)"
      ]
     },
     "execution_count": 10,
     "metadata": {},
     "output_type": "execute_result"
    }
   ],
   "source": [
    "calcium_data = data[\"calcium_video\"]\n",
    "calcium_data.shape  # (time, x, y)"
   ]
  },
  {
   "cell_type": "markdown",
   "id": "736686c0-96fb-4fff-8664-7f4ff93f7566",
   "metadata": {},
   "source": [
    "#### Set our view of the data to where both behavior and position data are available:"
   ]
  },
  {
   "cell_type": "code",
   "execution_count": 11,
   "id": "c807728c-6d4c-4597-8b33-cc3185b56995",
   "metadata": {},
   "outputs": [
    {
     "data": {
      "text/plain": [
       "(np.float64(7.39305), np.float64(1213.22765))"
      ]
     },
     "execution_count": 11,
     "metadata": {},
     "output_type": "execute_result"
    }
   ],
   "source": [
    "behavior_data = behavior_data.restrict(data[\"position_time_support\"])\n",
    "calcium_data = calcium_data.restrict(data[\"position_time_support\"])\n",
    "\n",
    "(data[\"position_time_support\"].start[0], data[\"position_time_support\"].end[0])"
   ]
  },
  {
   "cell_type": "code",
   "execution_count": 12,
   "id": "6a4635c1-3cd8-4cac-874e-75459b7c6d43",
   "metadata": {},
   "outputs": [
    {
     "data": {
      "application/vnd.jupyter.widget-view+json": {
       "model_id": "750d84c6c4584a99ae76d454827d40a2",
       "version_major": 2,
       "version_minor": 0
      },
      "text/plain": [
       "RFBOutputContext()"
      ]
     },
     "metadata": {},
     "output_type": "display_data"
    },
    {
     "name": "stderr",
     "output_type": "stream",
     "text": [
      "Detected skylake derivative running on mesa i915. Clears to srgb textures will use manual shader clears.\n"
     ]
    },
    {
     "data": {
      "application/vnd.jupyter.widget-view+json": {
       "model_id": "04312d2aed57479eaef6d3e9afd58010",
       "version_major": 2,
       "version_minor": 0
      },
      "text/html": [
       "<div class='snapshot-04312d2aed57479eaef6d3e9afd58010' style='position:relative;'><img src='data:image/png;base64,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' style='width:500.0px;height:300.0px;' /><div style='position: absolute; top:0; left:0; padding:1px 3px; background: #777; color:#fff; font-size: 90%; font-family:sans-serif; '>snapshot</div></div>"
      ],
      "text/plain": [
       "JupyterRenderCanvas(css_height='300.0px', css_width='500.0px')"
      ]
     },
     "execution_count": 12,
     "metadata": {},
     "output_type": "execute_result"
    }
   ],
   "source": [
    "# calculate min frame across movie\n",
    "# remove vignette effect from 1p endoscopic imaging\n",
    "min_frame = calcium_data.min(axis=0)\n",
    "\n",
    "# just to show you what this looks like\n",
    "iw = fpl.ImageWidget(min_frame)\n",
    "iw.show()"
   ]
  },
  {
   "cell_type": "code",
   "execution_count": 13,
   "id": "7f01a1c6-ed70-4114-87d2-d73b955cdf41",
   "metadata": {},
   "outputs": [],
   "source": [
    "iw.close()"
   ]
  },
  {
   "cell_type": "markdown",
   "id": "a0f92b83-8e99-4522-99e8-2400289baa93",
   "metadata": {},
   "source": [
    "## Create a big viz for calcium and behavior video! 🎨"
   ]
  },
  {
   "cell_type": "code",
   "execution_count": 14,
   "id": "1d53edf6-69ad-4323-b0e7-e7f445e6b868",
   "metadata": {},
   "outputs": [
    {
     "data": {
      "application/vnd.jupyter.widget-view+json": {
       "model_id": "22f95d9f8a4444ad82c01e32a118f5ca",
       "version_major": 2,
       "version_minor": 0
      },
      "text/plain": [
       "RFBOutputContext()"
      ]
     },
     "metadata": {},
     "output_type": "display_data"
    }
   ],
   "source": [
    "# make figure, calcium on left, behavior on right\n",
    "nap_figure = fpl.Figure(shape=(1,2), names=[[\"calcium\", \"behavior\"]])\n",
    "\n",
    "# image graphic to display current calcium frame\n",
    "calcium_graphic = nap_figure[\"calcium\"].add_image(data=calcium_data[0] - min_frame, name=\"calcium_frame\", cmap=\"gnuplot2\")\n",
    "\n",
    "# a UI tool to help set and visualize vmin-vmax\n",
    "hlut = fpl.HistogramLUTTool(data=calcium_data, image_graphic=calcium_graphic)\n",
    "# add this to the right dock\n",
    "nap_figure[\"calcium\"].docks[\"right\"].add_graphic(hlut)\n",
    "nap_figure[\"calcium\"].docks[\"right\"].size = 80\n",
    "nap_figure[\"calcium\"].docks[\"right\"].auto_scale(maintain_aspect=False)\n",
    "nap_figure[\"calcium\"].docks[\"right\"].controller.enabled = False\n",
    "\n",
    "# image graphic to display current behavior video frame\n",
    "behavior_graphic = nap_figure[\"behavior\"].add_image(data=behavior_data[0], cmap=\"gray\")"
   ]
  },
  {
   "cell_type": "markdown",
   "id": "02976ffc-6c61-4f14-b194-29e01b34b81e",
   "metadata": {},
   "source": [
    "#### Create a slider that updates the behavior and calcium videos using `pynapple`"
   ]
  },
  {
   "cell_type": "code",
   "execution_count": 15,
   "id": "11e48332-8768-456d-8b4d-a497a25da0de",
   "metadata": {},
   "outputs": [],
   "source": [
    "# This time will be in seconds\n",
    "synced_time = FloatSlider(min=data[\"position_time_support\"].start, max=data[\"position_time_support\"].end, step=0.01, description=\"s\")\n",
    "\n",
    "# auto-resize slider\n",
    "@nap_figure.renderer.add_event_handler(\"resize\")\n",
    "def resize_slider(ev):\n",
    "    synced_time.layout = Layout(width=f\"{ev.width}px\")"
   ]
  },
  {
   "cell_type": "markdown",
   "id": "05ca6cc6-a978-4e4e-8a0b-a89c73f2f549",
   "metadata": {},
   "source": [
    "#### Add the components of our visualization to the `TimeStore` model to be synchronized 🕰️"
   ]
  },
  {
   "cell_type": "code",
   "execution_count": 16,
   "id": "23b63427-54ea-4b37-9020-3fed4e0bed3d",
   "metadata": {},
   "outputs": [],
   "source": [
    "# add the slider\n",
    "time_store.subscribe(subscriber=synced_time)\n",
    "\n",
    "def substract_min(frame):\n",
    "    \"\"\"subtract min frame from current frame\"\"\"\n",
    "    global min_frame\n",
    "\n",
    "    return frame - min_frame\n",
    "\n",
    "# add our calcium data\n",
    "time_store.subscribe(subscriber=calcium_graphic, data=calcium_data, data_filter=substract_min)\n",
    "\n",
    "# add our behavior data\n",
    "time_store.subscribe(subscriber=behavior_graphic, data=behavior_data)"
   ]
  },
  {
   "cell_type": "markdown",
   "id": "53c5ce6d-4bcf-416b-b25c-338bbbe7f1a3",
   "metadata": {},
   "source": [
    "**Here we are going to use `sidecar` to organize our visualizations better :D**"
   ]
  },
  {
   "cell_type": "code",
   "execution_count": 17,
   "id": "cc6b6f9d-3628-4eb6-aa8d-09c1d85828f0",
   "metadata": {},
   "outputs": [],
   "source": [
    "sc = Sidecar()\n",
    "with sc:\n",
    "    display(VBox([nap_figure.show(), synced_time]))"
   ]
  },
  {
   "cell_type": "markdown",
   "id": "ff5cac20-64e8-48b5-b893-55f9b1f81b6e",
   "metadata": {},
   "source": [
    "# Visualize Calcium Imaging ROIs\n",
    "\n",
    "#### Calculate the spatial contours and overlay them on the raw calcium data"
   ]
  },
  {
   "cell_type": "code",
   "execution_count": 18,
   "id": "69e87daf-5478-4bce-b8ef-06fae9ca829f",
   "metadata": {},
   "outputs": [],
   "source": [
    "# get the masks\n",
    "contour_masks = data.nwb.processing['ophys']['ImageSegmentation']['PlaneSegmentation']['image_mask'].data[:]\n",
    "# reshape the masks into a list of 105 components\n",
    "contour_masks = list(contour_masks.reshape((len(contour_masks), 166, 136)))"
   ]
  },
  {
   "cell_type": "code",
   "execution_count": 19,
   "id": "54d92962-dea2-4d69-b4b3-8e433e481019",
   "metadata": {},
   "outputs": [],
   "source": [
    "# calculate each contour from the mask using `scikit-image.measure`\n",
    "contours = list()\n",
    "\n",
    "for mask in contour_masks:\n",
    "    contours.append(np.vstack(measure.find_contours(mask)))"
   ]
  },
  {
   "cell_type": "markdown",
   "id": "4982570c-a33d-447d-a44e-4ebd7b84f6e9",
   "metadata": {},
   "source": [
    "#### Add the calculated contours as an overlay to the calcium video"
   ]
  },
  {
   "cell_type": "code",
   "execution_count": 20,
   "id": "bff645a8-e854-481e-a5d1-23748f5e8bf1",
   "metadata": {},
   "outputs": [],
   "source": [
    "contours_graphic = nap_figure[\"calcium\"].add_line_collection(data=contours, colors=\"w\", alpha=0.8)"
   ]
  },
  {
   "cell_type": "markdown",
   "id": "3c8cb43a-6411-4721-88b1-5422ba1fdf10",
   "metadata": {},
   "source": [
    "**It is very easy to see that many of the identified neurons may be \"bad\" candidates. Let's remove them from the dataset as we go on in our anaylsis.**"
   ]
  },
  {
   "cell_type": "markdown",
   "id": "572dd96a-f4c7-4737-a2fd-d6614a9bb459",
   "metadata": {},
   "source": [
    "### Select only head-direction neurons"
   ]
  },
  {
   "cell_type": "code",
   "execution_count": 21,
   "id": "5e594f64-b0d2-4785-84db-66e51131f942",
   "metadata": {},
   "outputs": [
    {
     "data": {
      "text/plain": [
       "Time (s)     0        1        2        3        4        ...\n",
       "-----------  -------  -------  -------  -------  -------  -----\n",
       "7.4          4.25336  0.1776   1.36078  0.4559   0.22819  ...\n",
       "7.433333     4.23919  0.17688  1.35602  0.45423  0.22733  ...\n",
       "7.466667     4.22506  0.17617  1.35128  0.45257  0.22647  ...\n",
       "7.5          4.21097  0.17546  1.34655  0.5235   0.22562  ...\n",
       "7.533333     4.19693  0.17475  1.34184  0.57631  0.22476  ...\n",
       "7.566667     4.18294  0.17404  1.33714  0.74999  0.22392  ...\n",
       "7.6          4.16899  0.17334  1.33246  0.88075  0.22307  ...\n",
       "...          ...      ...      ...      ...      ...      ...\n",
       "1192.166667  2.54202  0.14531  0.44013  0.5681   0.65477  ...\n",
       "1192.2       2.53029  0.14775  0.43842  0.56657  0.65227  ...\n",
       "1192.233333  2.51861  0.14962  0.43671  0.56505  0.64979  ...\n",
       "1192.266667  2.50698  0.15104  0.435    0.56354  0.64731  ...\n",
       "1192.3       2.49541  0.15209  0.43331  0.56202  0.64485  ...\n",
       "1192.333333  2.48389  0.15283  0.43162  0.58476  0.64239  ...\n",
       "1192.366667  2.47242  0.15333  0.42994  0.62802  0.63994  ...\n",
       "dtype: float64, shape: (35550, 105)"
      ]
     },
     "execution_count": 21,
     "metadata": {},
     "output_type": "execute_result"
    }
   ],
   "source": [
    "# get the temporal data (calcium transients) from the nwb notebook\n",
    "temporal_data = data[\"RoiResponseSeries\"][:].restrict(data[\"position_time_support\"])\n",
    "temporal_data"
   ]
  },
  {
   "cell_type": "code",
   "execution_count": 22,
   "id": "ebeeb6bb-42e6-40a0-87fc-fa29f296cd2d",
   "metadata": {},
   "outputs": [],
   "source": [
    "# compute 1D tuning curved based on head angle\n",
    "head_angle = data[\"ry\"]\n",
    "\n",
    "tuning_curves = nap.compute_1d_tuning_curves_continuous(temporal_data, head_angle, nb_bins = 120)"
   ]
  },
  {
   "cell_type": "markdown",
   "id": "6a26d4cc-191b-48d2-857b-35f0182512d9",
   "metadata": {},
   "source": [
    "#### Select the top 50 components"
   ]
  },
  {
   "cell_type": "code",
   "execution_count": 23,
   "id": "bf351dea-488f-4dad-b4a9-4ffbb6a17b2e",
   "metadata": {},
   "outputs": [],
   "source": [
    "# select good components \n",
    "good_ixs = list(np.argsort(np.ptp(tuning_curves, axis=0))[-50:])\n",
    "bad_ixs = list(np.argsort(np.ptp(tuning_curves, axis=0))[:-50])"
   ]
  },
  {
   "cell_type": "markdown",
   "id": "03739b41-5139-438b-a438-0e8207c1c041",
   "metadata": {},
   "source": [
    "#### Color the \"good\" and \"bad\" components"
   ]
  },
  {
   "cell_type": "code",
   "execution_count": 24,
   "id": "c6bcfbf2-06c6-411f-840c-ef4faa8dc382",
   "metadata": {},
   "outputs": [],
   "source": [
    "contours_graphic[good_ixs].colors = \"w\"\n",
    "contours_graphic[bad_ixs].colors = \"magenta\""
   ]
  },
  {
   "cell_type": "markdown",
   "id": "7019c6ce-d9a4-48a8-befe-163bb5759be4",
   "metadata": {},
   "source": [
    "#### Sort the \"good\" components based on preferred head direction"
   ]
  },
  {
   "cell_type": "code",
   "execution_count": 25,
   "id": "7c49e295-63b3-4215-a3c4-ac24dbbc8f4d",
   "metadata": {},
   "outputs": [],
   "source": [
    "# sorting the \"good\" neurons based on preferred directions\n",
    "sorted_ixs = tuning_curves.iloc[:,good_ixs].idxmax().sort_values().index.values"
   ]
  },
  {
   "cell_type": "code",
   "execution_count": 26,
   "id": "7d0ed8c4-3e74-4026-a298-8b4e425a045c",
   "metadata": {},
   "outputs": [
    {
     "data": {
      "text/plain": [
       "array([34, 75, 77, 86, 21, 16,  6,  4, 44, 58, 14, 33, 94, 98, 76, 90,  7,\n",
       "        5, 82, 28, 15, 45, 88, 39, 24, 18, 20, 60, 13,  0,  8, 27, 10, 78,\n",
       "        2, 85, 19,  3, 17, 38, 30, 29, 25, 84, 12, 26, 41,  9, 11,  1])"
      ]
     },
     "execution_count": 26,
     "metadata": {},
     "output_type": "execute_result"
    }
   ],
   "source": [
    "sorted_ixs"
   ]
  },
  {
   "cell_type": "markdown",
   "id": "21b735e1-7e76-48ad-a26b-ab894ce759a6",
   "metadata": {},
   "source": [
    "#### Filter the dataset to only use the sorted \"good\" components\n",
    "\n",
    "In the rest of the demo we will only be using the sub-sampled components."
   ]
  },
  {
   "cell_type": "code",
   "execution_count": 27,
   "id": "8cd36a17-5ce0-4f22-9926-188398da4e1f",
   "metadata": {},
   "outputs": [],
   "source": [
    "# filter dataset based on sortex indices\n",
    "temporal_data = temporal_data[:,sorted_ixs]\n",
    "contours = [contours[i] for i in sorted_ixs]"
   ]
  },
  {
   "cell_type": "markdown",
   "id": "9def8dfe-a22c-493e-af5c-193605ef6672",
   "metadata": {},
   "source": [
    "#### Plot only the \"good\" components"
   ]
  },
  {
   "cell_type": "code",
   "execution_count": 28,
   "id": "e5601468-b974-473e-bee1-16d777afe475",
   "metadata": {},
   "outputs": [],
   "source": [
    "# remove the graphic of all the components\n",
    "nap_figure[\"calcium\"].remove_graphic(contours_graphic)\n",
    "\n",
    "# re-plot only the good ixs\n",
    "contours_graphic = nap_figure[0, 0].add_line_collection(data=contours, colors=\"w\", alpha=0.8)"
   ]
  },
  {
   "cell_type": "markdown",
   "id": "eebcc41f-00ac-4f92-8e43-dcc6bb43fd89",
   "metadata": {},
   "source": [
    "## Visualize all calcium tracing using an `ImageGraphic` to display a Heatmap"
   ]
  },
  {
   "cell_type": "code",
   "execution_count": 29,
   "id": "3f7f4329-c1d7-4353-a4c4-b5dfe528e39e",
   "metadata": {},
   "outputs": [
    {
     "data": {
      "application/vnd.jupyter.widget-view+json": {
       "model_id": "32555215429d4768bd04b434d85ade85",
       "version_major": 2,
       "version_minor": 0
      },
      "text/plain": [
       "RFBOutputContext()"
      ]
     },
     "metadata": {},
     "output_type": "display_data"
    }
   ],
   "source": [
    "# create a figure, 2 rows, 1 column\n",
    "temporal_fig = fpl.Figure(shape=(2,1), names=[[\"temporal-heatmap\"], [\"tuning-curve\"]])"
   ]
  },
  {
   "cell_type": "code",
   "execution_count": 30,
   "id": "913b9a59-6d4f-4462-9cc4-141d28c4b207",
   "metadata": {},
   "outputs": [],
   "source": [
    "# we need to transpose our temporal data so that it is (# components, time (s))\n",
    "raw_temporal = temporal_data.to_numpy().T\n",
    "\n",
    "# use 'hsv' colormap to represent preferred head direction \n",
    "heatmap_graphic = temporal_fig[0,0].add_image(data=raw_temporal, cmap=\"plasma\", name=\"traces\")"
   ]
  },
  {
   "cell_type": "markdown",
   "id": "45319b76-06d3-4a67-89a8-d78de86a50d8",
   "metadata": {},
   "source": [
    "#### Add a `LinearSelector` that we can map to our behavior and calcium videos"
   ]
  },
  {
   "cell_type": "code",
   "execution_count": 31,
   "id": "8ddb5617-3343-495d-8d1e-da106644348f",
   "metadata": {},
   "outputs": [],
   "source": [
    "time_selector = heatmap_graphic.add_linear_selector()"
   ]
  },
  {
   "cell_type": "code",
   "execution_count": 32,
   "id": "7012b1d9-aabb-45c7-ae4c-0d88d580cb09",
   "metadata": {},
   "outputs": [],
   "source": [
    "component_selector = heatmap_graphic.add_linear_selector(axis=\"y\")"
   ]
  },
  {
   "cell_type": "code",
   "execution_count": 33,
   "id": "7e788d6f-ee74-4251-b723-f2afeebe3e91",
   "metadata": {},
   "outputs": [],
   "source": [
    "# subscribe selector to timestore\n",
    "time_store.subscribe(subscriber=time_selector, multiplier=temporal_data.rate)"
   ]
  },
  {
   "cell_type": "markdown",
   "id": "17192833-bd4f-4c68-9cfc-306ca2ae6fe6",
   "metadata": {},
   "source": [
    "#### Let's view everything together"
   ]
  },
  {
   "cell_type": "code",
   "execution_count": 34,
   "id": "5943838c-c613-4f8e-b44c-cde2d4dc6b1e",
   "metadata": {},
   "outputs": [],
   "source": [
    "@nap_figure.renderer.add_event_handler(\"resize\")\n",
    "def resize_temporal_fig(ev):\n",
    "    temporal_fig.canvas.set_logical_size(ev.width, 300)\n",
    "\n",
    "sc = Sidecar()\n",
    "\n",
    "with sc:\n",
    "    display(VBox([nap_figure.show(), temporal_fig.show(maintain_aspect=False), synced_time]))"
   ]
  },
  {
   "cell_type": "code",
   "execution_count": 35,
   "id": "1891f819-9e20-4cc2-8c9d-3afef9ab1c0d",
   "metadata": {},
   "outputs": [],
   "source": [
    "# select the first component\n",
    "ix = 0\n",
    "\n",
    "# set the first component colors to magenta\n",
    "contours_graphic[ix].colors = \"green\"\n",
    "\n",
    "# get the tuning curve of the first component \n",
    "tuning_ix = sorted_ixs[ix]\n",
    "\n",
    "tuning_curve = tuning_curves.T.iloc[tuning_ix]\n",
    "\n",
    "# add the tuning curve to the plot as a line\n",
    "tuning_graphic = temporal_fig[\"tuning-curve\"].add_line(data=tuning_curve, offset=(0,0,0))\n",
    "temporal_fig[\"tuning-curve\"].auto_scale(maintain_aspect=False)"
   ]
  },
  {
   "cell_type": "markdown",
   "id": "8e7b2e42-cfea-4ae6-b978-ed3e3555626c",
   "metadata": {},
   "source": [
    "### Add an event handler that allows us to \"scroll\" through the traces and tuning curves :D"
   ]
  },
  {
   "cell_type": "code",
   "execution_count": 36,
   "id": "2cfc80a4-b901-459b-a42f-b3f713a5bdb1",
   "metadata": {},
   "outputs": [],
   "source": [
    "# add an event handler that allows tabbing up and down traces\n",
    "@component_selector.add_event_handler(\"selection\")\n",
    "def update_selected_trace(ev):\n",
    "    ix = ev.get_selected_index()\n",
    "    \n",
    "    # reset the colors of the components to white\n",
    "    contours_graphic.colors = \"w\"\n",
    "\n",
    "    # set the selected component colors to magenta\n",
    "    contours_graphic[ix].colors = \"green\"\n",
    "\n",
    "    nap_figure[\"calcium\"].camera.show_object(contours_graphic[ix].world_object)\n",
    "\n",
    "    # get tuning curve of the selected component\n",
    "    tuning_ix = sorted_ixs[ix]\n",
    "\n",
    "    tuning_curve = tuning_curves.T.iloc[tuning_ix]\n",
    "\n",
    "    # remove the current tuning curve add the new one\n",
    "    #global tuning_graphic\n",
    "    temporal_fig[\"tuning-curve\"].graphics[0].data[:,1] = tuning_curve\n",
    "    temporal_fig[\"tuning-curve\"].auto_scale(maintain_aspect=False)\n",
    "    \n",
    "\n",
    "    #tuning_graphic = tstack_fig[1,0].add_line(data=tuning_curve, offset=(0,0,0))"
   ]
  },
  {
   "cell_type": "markdown",
   "id": "9e7523cd-7031-4a6c-91df-a94414af935b",
   "metadata": {},
   "source": [
    "# Downstream analysis, view a PCA of the calcium"
   ]
  },
  {
   "cell_type": "code",
   "execution_count": 37,
   "id": "da240ac5-7eb2-48a1-ac1b-cc11b7582d86",
   "metadata": {},
   "outputs": [],
   "source": [
    "from sklearn.decomposition import PCA\n",
    "from sklearn.preprocessing import RobustScaler"
   ]
  },
  {
   "cell_type": "markdown",
   "id": "136415a4-0da1-450e-913a-2292adc83ea4",
   "metadata": {},
   "source": [
    "#### Perform PCA"
   ]
  },
  {
   "cell_type": "code",
   "execution_count": 38,
   "id": "4b55a67d-79af-4b7f-8db8-7f8d289f9144",
   "metadata": {},
   "outputs": [],
   "source": [
    "pca = PCA(n_components=3)\n",
    "\n",
    "rs = RobustScaler()\n",
    "scaled = rs.fit_transform(gaussian_filter1d(temporal_data.to_numpy(), sigma=5))\n",
    "calcium_pca = pca.fit_transform(scaled)"
   ]
  },
  {
   "cell_type": "markdown",
   "id": "513a7fb0-385e-47d9-93a8-a46b52a4a80b",
   "metadata": {},
   "source": [
    "#### Plot the PCA results"
   ]
  },
  {
   "cell_type": "markdown",
   "id": "07fc6338-9b85-4a09-8a7a-3304150026fd",
   "metadata": {},
   "source": [
    "To get a proper colormap transform based on the head angle data, need to interpolate the time scale."
   ]
  },
  {
   "cell_type": "code",
   "execution_count": 39,
   "id": "92febe79-0fd9-4717-aa58-c4822a439942",
   "metadata": {},
   "outputs": [],
   "source": [
    "# restrict the head angle data \n",
    "ry_restrict = data[\"ry\"].restrict(data[\"position_time_support\"])"
   ]
  },
  {
   "cell_type": "code",
   "execution_count": 40,
   "id": "cf33ccb8-a2bb-4614-b9d3-f0defefc0ef6",
   "metadata": {},
   "outputs": [],
   "source": [
    "x = np.arange(0, temporal_data.shape[0])\n",
    "xp = np.linspace(0, temporal_data.shape[0], ry_restrict.shape[0])\n",
    "\n",
    "# interpolate \n",
    "ry_transform =  np.interp(x, xp, fp=ry_restrict)  # use the y-values"
   ]
  },
  {
   "cell_type": "code",
   "execution_count": 41,
   "id": "3e0bd179-a03a-4c00-93cf-1e152b92f7d5",
   "metadata": {},
   "outputs": [
    {
     "data": {
      "application/vnd.jupyter.widget-view+json": {
       "model_id": "2d4262e5e12b42b0892a063173bfc6ec",
       "version_major": 2,
       "version_minor": 0
      },
      "text/plain": [
       "RFBOutputContext()"
      ]
     },
     "metadata": {},
     "output_type": "display_data"
    },
    {
     "data": {
      "application/vnd.jupyter.widget-view+json": {
       "model_id": "5999c20a04b041e89ba5dc4731bf7b9f",
       "version_major": 2,
       "version_minor": 0
      },
      "text/html": [
       "<div class='snapshot-5999c20a04b041e89ba5dc4731bf7b9f' style='position:relative;'><img src='data:image/png;base64,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' style='width:500.0px;height:300.0px;' /><div style='position: absolute; top:0; left:0; padding:1px 3px; background: #777; color:#fff; font-size: 90%; font-family:sans-serif; '>snapshot</div></div>"
      ],
      "text/plain": [
       "JupyterRenderCanvas(css_height='300.0px', css_width='500.0px')"
      ]
     },
     "execution_count": 41,
     "metadata": {},
     "output_type": "execute_result"
    }
   ],
   "source": [
    "fig_pca = fpl.Figure(\n",
    "    cameras=\"3d\",\n",
    "    controller_types=\"orbit\",\n",
    ")\n",
    "fig_pca[0, 0].add_scatter(calcium_pca, cmap=\"hsv\", cmap_transform=ry_transform, sizes=4, alpha=0.4)\n",
    "marker_graphic = fig_pca[0, 0].add_scatter(calcium_pca[0], sizes=20)\n",
    "\n",
    "fig_pca.show()"
   ]
  },
  {
   "cell_type": "markdown",
   "id": "98d67ce8-020e-494f-92da-f91cf468f2d0",
   "metadata": {},
   "source": [
    "#### Subscribe the PCA marker to the `TimeStore` model"
   ]
  },
  {
   "cell_type": "code",
   "execution_count": 42,
   "id": "0f97c06c-c1df-459b-8fd9-a933da854689",
   "metadata": {},
   "outputs": [],
   "source": [
    "# create a `pynapple.TsdFrame` for the PCA data\n",
    "pca_data = nap.TsdFrame(t=temporal_data.t, d=calcium_pca)\n",
    "\n",
    "time_store.subscribe(subscriber=marker_graphic, data=pca_data, multiplier=temporal_data.rate)"
   ]
  },
  {
   "cell_type": "markdown",
   "id": "9fa5cf01-2e65-404a-be24-8d7f288914ba",
   "metadata": {},
   "source": [
    "Can change the controller"
   ]
  },
  {
   "cell_type": "code",
   "execution_count": 43,
   "id": "785b396e-7949-42a3-8970-f1934e65cef1",
   "metadata": {},
   "outputs": [],
   "source": [
    "fig_pca[0, 0].controller = \"fly\""
   ]
  },
  {
   "cell_type": "code",
   "execution_count": null,
   "id": "84709bbd-b0d2-4390-93d4-1f77eb79ab36",
   "metadata": {},
   "outputs": [],
   "source": []
  },
  {
   "cell_type": "code",
   "execution_count": null,
   "id": "552ff322-6460-4462-a668-2a590813adae",
   "metadata": {},
   "outputs": [],
   "source": []
  },
  {
   "cell_type": "code",
   "execution_count": null,
   "id": "f8873471-5f6f-4683-aa0f-98001f3946b0",
   "metadata": {},
   "outputs": [],
   "source": []
  },
  {
   "cell_type": "code",
   "execution_count": null,
   "id": "d5bc24a9-713b-4aea-8956-c0f55f3f308c",
   "metadata": {},
   "outputs": [],
   "source": []
  },
  {
   "cell_type": "code",
   "execution_count": null,
   "id": "6b7ec73b-c299-4392-9ea6-7abe87b4b345",
   "metadata": {},
   "outputs": [],
   "source": []
  },
  {
   "cell_type": "code",
   "execution_count": null,
   "id": "899036a1-7002-4c51-acdd-556cfd9b78e8",
   "metadata": {},
   "outputs": [],
   "source": []
  },
  {
   "cell_type": "code",
   "execution_count": null,
   "id": "ddf041eb-a1b1-4637-8a8a-1878dce23aa2",
   "metadata": {},
   "outputs": [],
   "source": []
  },
  {
   "cell_type": "code",
   "execution_count": null,
   "id": "08fd95b7-ab90-47d1-81bd-7c24b12aafcf",
   "metadata": {},
   "outputs": [],
   "source": []
  },
  {
   "cell_type": "code",
   "execution_count": null,
   "id": "2ef45a25-5ccb-4e58-aeca-dccfcea43f97",
   "metadata": {},
   "outputs": [],
   "source": []
  }
 ],
 "metadata": {
  "kernelspec": {
   "display_name": "Python 3 (ipykernel)",
   "language": "python",
   "name": "python3"
  },
  "language_info": {
   "codemirror_mode": {
    "name": "ipython",
    "version": 3
   },
   "file_extension": ".py",
   "mimetype": "text/x-python",
   "name": "python",
   "nbconvert_exporter": "python",
   "pygments_lexer": "ipython3",
   "version": "3.11.11"
  }
 },
 "nbformat": 4,
 "nbformat_minor": 5
}
