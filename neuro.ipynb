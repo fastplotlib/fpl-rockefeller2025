{
 "cells": [
  {
   "cell_type": "markdown",
   "id": "1e658e8c-5cd5-4e7f-bb69-70fd6fad95ba",
   "metadata": {},
   "source": [
    "# Neuroscience 🧠 using fastplotlib 🦜"
   ]
  },
  {
   "cell_type": "markdown",
   "id": "9c2ddb43-76eb-41df-abc0-b8096e916a4b",
   "metadata": {},
   "source": [
    "This notebook will build up a complex visualization using `fastplotlib`, in conjunction with `pynapple`, to show how `fastplotlib` can be a powerful tool in analysis and visualization of neural data!"
   ]
  },
  {
   "cell_type": "code",
   "execution_count": null,
   "id": "4dc161e6-bf40-411c-b801-0826dff16bee",
   "metadata": {},
   "outputs": [],
   "source": [
    "import fastplotlib as fpl\n",
    "import pynapple as nap\n",
    "import numpy as np\n",
    "from ipywidgets import IntSlider, Layout, VBox, HBox, FloatSlider\n",
    "from sidecar import Sidecar\n",
    "from skimage import measure\n",
    "from sklearn.decomposition import PCA\n",
    "from sklearn.preprocessing import StandardScaler\n",
    "from scipy.ndimage import gaussian_filter1d\n",
    "from store_model import TimeStore"
   ]
  },
  {
   "cell_type": "code",
   "execution_count": null,
   "id": "507bb4cd-3d42-4715-9897-5a8fbbe1b297",
   "metadata": {},
   "outputs": [],
   "source": [
    "import warnings\n",
    "warnings.simplefilter('ignore')"
   ]
  },
  {
   "cell_type": "code",
   "execution_count": null,
   "id": "5947cc93-bae3-4641-bc52-8de48462cd06",
   "metadata": {},
   "outputs": [],
   "source": [
    "warnings.filterwarnings(\"ignore\", category=DeprecationWarning)"
   ]
  },
  {
   "cell_type": "markdown",
   "id": "0b2e429a-6008-4b2e-9298-e9418a77c189",
   "metadata": {},
   "source": [
    "## Load the data\n",
    "\n",
    "#### Recording of a freely-moving mouse imaged with a Miniscope (1-photon imaging). The area recorded is the postsubiculum - a region that is known to contain head-direction cells, or cells that fire when the animal's head is pointing in a specific direction."
   ]
  },
  {
   "cell_type": "code",
   "execution_count": null,
   "id": "89169547-7208-4b07-b7de-3e6ca455d07a",
   "metadata": {},
   "outputs": [],
   "source": [
    "data = nap.load_file(\"./data.nwb\")"
   ]
  },
  {
   "cell_type": "code",
   "execution_count": null,
   "id": "697b82e5-64bd-4dda-a3b9-1cee174c4de3",
   "metadata": {},
   "outputs": [],
   "source": [
    "data"
   ]
  },
  {
   "cell_type": "markdown",
   "id": "5902d508-0213-4e87-9f32-1880127b05bd",
   "metadata": {},
   "source": [
    "### Let's view the behavior and calcium data\n",
    "\n",
    "**NOTE:** We are going to be using a WIP `TimeStore` model to help synchronize our visualization in time. "
   ]
  },
  {
   "cell_type": "code",
   "execution_count": null,
   "id": "d1690033-a061-4ab5-89e8-941ec83378f5",
   "metadata": {},
   "outputs": [],
   "source": [
    "time_store = TimeStore()"
   ]
  },
  {
   "cell_type": "markdown",
   "id": "0a24bd38-2de3-4143-80aa-bf6b5f2f1fb3",
   "metadata": {},
   "source": [
    "Behavior data and shape 🐭"
   ]
  },
  {
   "cell_type": "code",
   "execution_count": null,
   "id": "f6c0607f-8787-486a-a3b7-32ad335e0e98",
   "metadata": {},
   "outputs": [],
   "source": [
    "behavior_data = data[\"beh_video\"]\n",
    "behavior_data.shape  # (time, x, y)"
   ]
  },
  {
   "cell_type": "markdown",
   "id": "95b2864d-7d23-4f22-b758-a15a62eddf51",
   "metadata": {},
   "source": [
    "Load behavior tracks"
   ]
  },
  {
   "cell_type": "code",
   "execution_count": null,
   "id": "91d2365f-e495-4f77-89bd-5d1f4613cae5",
   "metadata": {},
   "outputs": [],
   "source": [
    "tracks_data = np.load(\"./track.npy\")"
   ]
  },
  {
   "cell_type": "markdown",
   "id": "74eba942-1dcc-447b-99a6-643300700cce",
   "metadata": {},
   "source": [
    "Calcium data and the shape 🔬"
   ]
  },
  {
   "cell_type": "code",
   "execution_count": null,
   "id": "6b5d112c-1b31-45d0-ac6c-278420d47e6f",
   "metadata": {},
   "outputs": [],
   "source": [
    "calcium_data = data[\"calcium_video\"]\n",
    "calcium_data.shape  # (time, x, y)"
   ]
  },
  {
   "cell_type": "markdown",
   "id": "736686c0-96fb-4fff-8664-7f4ff93f7566",
   "metadata": {},
   "source": [
    "#### Set our view of the data to where both behavior and position data are available:"
   ]
  },
  {
   "cell_type": "code",
   "execution_count": null,
   "id": "c807728c-6d4c-4597-8b33-cc3185b56995",
   "metadata": {},
   "outputs": [],
   "source": [
    "behavior_data = behavior_data.restrict(data[\"position_time_support\"])\n",
    "calcium_data = calcium_data.restrict(data[\"position_time_support\"])\n",
    "\n",
    "(data[\"position_time_support\"].start[0], data[\"position_time_support\"].end[0])"
   ]
  },
  {
   "cell_type": "code",
   "execution_count": null,
   "id": "6a4635c1-3cd8-4cac-874e-75459b7c6d43",
   "metadata": {},
   "outputs": [],
   "source": [
    "# calculate min frame across movie\n",
    "# remove vignette effect from 1p endoscopic imaging\n",
    "min_frame = calcium_data.min(axis=0)\n",
    "\n",
    "# just to show you what this looks like\n",
    "iw = fpl.ImageWidget(min_frame)\n",
    "iw.show()"
   ]
  },
  {
   "cell_type": "code",
   "execution_count": null,
   "id": "7f01a1c6-ed70-4114-87d2-d73b955cdf41",
   "metadata": {},
   "outputs": [],
   "source": [
    "iw.close()"
   ]
  },
  {
   "cell_type": "markdown",
   "id": "a0f92b83-8e99-4522-99e8-2400289baa93",
   "metadata": {},
   "source": [
    "## Create a big viz for calcium and behavior video! 🎨"
   ]
  },
  {
   "cell_type": "code",
   "execution_count": null,
   "id": "1d53edf6-69ad-4323-b0e7-e7f445e6b868",
   "metadata": {},
   "outputs": [],
   "source": [
    "# make figure, calcium on left, behavior on right\n",
    "nap_figure = fpl.Figure(shape=(1,2), names=[[\"calcium\", \"behavior\"]])\n",
    "\n",
    "# image graphic to display current calcium frame\n",
    "calcium_graphic = nap_figure[\"calcium\"].add_image(data=calcium_data[0] - min_frame, name=\"calcium_frame\", cmap=\"gnuplot2\")\n",
    "\n",
    "# a UI tool to help set and visualize vmin-vmax\n",
    "hlut = fpl.HistogramLUTTool(data=calcium_data, image_graphic=calcium_graphic)\n",
    "# add this to the right dock\n",
    "nap_figure[\"calcium\"].docks[\"right\"].add_graphic(hlut)\n",
    "nap_figure[\"calcium\"].docks[\"right\"].size = 80\n",
    "nap_figure[\"calcium\"].docks[\"right\"].auto_scale(maintain_aspect=False)\n",
    "nap_figure[\"calcium\"].docks[\"right\"].controller.enabled = False\n",
    "\n",
    "# image graphic to display current behavior video frame\n",
    "behavior_graphic = nap_figure[\"behavior\"].add_image(data=behavior_data[0], cmap=\"gray\")\n",
    "\n",
    "# line to display the behavior tracks\n",
    "tracks_graphic = nap_figure[\"behavior\"].add_line(tracks_data, cmap=\"winter\", thickness=2, alpha=0.5)"
   ]
  },
  {
   "cell_type": "markdown",
   "id": "02976ffc-6c61-4f14-b194-29e01b34b81e",
   "metadata": {},
   "source": [
    "#### Create a slider that updates the behavior and calcium videos using `pynapple`"
   ]
  },
  {
   "cell_type": "code",
   "execution_count": null,
   "id": "11e48332-8768-456d-8b4d-a497a25da0de",
   "metadata": {},
   "outputs": [],
   "source": [
    "# This time will be in seconds\n",
    "synced_time = FloatSlider(min=data[\"position_time_support\"].start, max=data[\"position_time_support\"].end, step=0.01, description=\"s\")\n",
    "\n",
    "# auto-resize slider\n",
    "@nap_figure.renderer.add_event_handler(\"resize\")\n",
    "def resize_slider(ev):\n",
    "    synced_time.layout = Layout(width=f\"{ev.width}px\")"
   ]
  },
  {
   "cell_type": "markdown",
   "id": "05ca6cc6-a978-4e4e-8a0b-a89c73f2f549",
   "metadata": {},
   "source": [
    "#### Add the components of our visualization to the `TimeStore` model to be synchronized 🕰️"
   ]
  },
  {
   "cell_type": "code",
   "execution_count": null,
   "id": "23b63427-54ea-4b37-9020-3fed4e0bed3d",
   "metadata": {},
   "outputs": [],
   "source": [
    "# add the slider\n",
    "time_store.subscribe(subscriber=synced_time)\n",
    "\n",
    "def substract_min(frame):\n",
    "    \"\"\"subtract min frame from current frame\"\"\"\n",
    "    global min_frame\n",
    "\n",
    "    return frame - min_frame\n",
    "\n",
    "# add our calcium data\n",
    "time_store.subscribe(subscriber=calcium_graphic, data=calcium_data, data_filter=substract_min)\n",
    "\n",
    "# add our behavior data\n",
    "time_store.subscribe(subscriber=behavior_graphic, data=behavior_data)"
   ]
  },
  {
   "cell_type": "markdown",
   "id": "53c5ce6d-4bcf-416b-b25c-338bbbe7f1a3",
   "metadata": {},
   "source": [
    "**Here we are going to use `sidecar` to organize our visualizations better :D**"
   ]
  },
  {
   "cell_type": "code",
   "execution_count": null,
   "id": "cc6b6f9d-3628-4eb6-aa8d-09c1d85828f0",
   "metadata": {},
   "outputs": [],
   "source": [
    "sc = Sidecar()\n",
    "with sc:\n",
    "    display(VBox([nap_figure.show(), synced_time]))"
   ]
  },
  {
   "cell_type": "code",
   "execution_count": null,
   "id": "b673bd07-9892-4415-889c-38c1008c22ce",
   "metadata": {},
   "outputs": [],
   "source": [
    "tracks_graphic.thickness = 0.4"
   ]
  },
  {
   "cell_type": "markdown",
   "id": "ff5cac20-64e8-48b5-b893-55f9b1f81b6e",
   "metadata": {},
   "source": [
    "# Visualize Calcium Imaging ROIs\n",
    "\n",
    "#### Calculate the spatial contours and overlay them on the raw calcium data"
   ]
  },
  {
   "cell_type": "code",
   "execution_count": null,
   "id": "69e87daf-5478-4bce-b8ef-06fae9ca829f",
   "metadata": {},
   "outputs": [],
   "source": [
    "# get the masks\n",
    "contour_masks = data.nwb.processing['ophys']['ImageSegmentation']['PlaneSegmentation']['image_mask'].data[:]\n",
    "# reshape the masks into a list of 105 components\n",
    "contour_masks = list(contour_masks.reshape((len(contour_masks), 166, 136)))"
   ]
  },
  {
   "cell_type": "code",
   "execution_count": null,
   "id": "54d92962-dea2-4d69-b4b3-8e433e481019",
   "metadata": {},
   "outputs": [],
   "source": [
    "# calculate each contour from the mask using `scikit-image.measure`\n",
    "contours = list()\n",
    "\n",
    "for mask in contour_masks:\n",
    "    contours.append(np.vstack(measure.find_contours(mask)))"
   ]
  },
  {
   "cell_type": "markdown",
   "id": "4982570c-a33d-447d-a44e-4ebd7b84f6e9",
   "metadata": {},
   "source": [
    "#### Add the calculated contours as an overlay to the calcium video"
   ]
  },
  {
   "cell_type": "code",
   "execution_count": null,
   "id": "bff645a8-e854-481e-a5d1-23748f5e8bf1",
   "metadata": {},
   "outputs": [],
   "source": [
    "contours_graphic = nap_figure[\"calcium\"].add_line_collection(data=contours, colors=\"w\", alpha=0.8)"
   ]
  },
  {
   "cell_type": "markdown",
   "id": "3c8cb43a-6411-4721-88b1-5422ba1fdf10",
   "metadata": {},
   "source": [
    "**It is very easy to see that many of the identified neurons may be \"bad\" candidates. Let's remove them from the dataset as we go on in our anaylsis.**"
   ]
  },
  {
   "cell_type": "markdown",
   "id": "572dd96a-f4c7-4737-a2fd-d6614a9bb459",
   "metadata": {},
   "source": [
    "### Select only head-direction neurons"
   ]
  },
  {
   "cell_type": "code",
   "execution_count": null,
   "id": "5e594f64-b0d2-4785-84db-66e51131f942",
   "metadata": {},
   "outputs": [],
   "source": [
    "# get the temporal data (calcium transients) from the nwb notebook\n",
    "temporal_data = data[\"RoiResponseSeries\"][:].restrict(data[\"position_time_support\"])\n",
    "temporal_data"
   ]
  },
  {
   "cell_type": "code",
   "execution_count": null,
   "id": "ebeeb6bb-42e6-40a0-87fc-fa29f296cd2d",
   "metadata": {},
   "outputs": [],
   "source": [
    "# compute 1D tuning curved based on head angle\n",
    "head_angle = data[\"ry\"]\n",
    "\n",
    "tuning_curves = nap.compute_1d_tuning_curves_continuous(temporal_data, head_angle, nb_bins = 120)"
   ]
  },
  {
   "cell_type": "markdown",
   "id": "6a26d4cc-191b-48d2-857b-35f0182512d9",
   "metadata": {},
   "source": [
    "#### Select the top 50 components"
   ]
  },
  {
   "cell_type": "code",
   "execution_count": null,
   "id": "bf351dea-488f-4dad-b4a9-4ffbb6a17b2e",
   "metadata": {},
   "outputs": [],
   "source": [
    "# select good components \n",
    "good_ixs = list(np.argsort(np.ptp(tuning_curves, axis=0))[-50:])\n",
    "bad_ixs = list(np.argsort(np.ptp(tuning_curves, axis=0))[:-50])"
   ]
  },
  {
   "cell_type": "markdown",
   "id": "03739b41-5139-438b-a438-0e8207c1c041",
   "metadata": {},
   "source": [
    "#### Color the \"good\" and \"bad\" components"
   ]
  },
  {
   "cell_type": "code",
   "execution_count": null,
   "id": "c6bcfbf2-06c6-411f-840c-ef4faa8dc382",
   "metadata": {},
   "outputs": [],
   "source": [
    "contours_graphic[good_ixs].colors = \"w\"\n",
    "contours_graphic[bad_ixs].colors = \"magenta\""
   ]
  },
  {
   "cell_type": "markdown",
   "id": "7019c6ce-d9a4-48a8-befe-163bb5759be4",
   "metadata": {},
   "source": [
    "#### Sort the \"good\" components based on preferred head direction"
   ]
  },
  {
   "cell_type": "code",
   "execution_count": null,
   "id": "7c49e295-63b3-4215-a3c4-ac24dbbc8f4d",
   "metadata": {},
   "outputs": [],
   "source": [
    "# sorting the \"good\" neurons based on preferred directions\n",
    "sorted_ixs = tuning_curves.iloc[:,good_ixs].idxmax().sort_values().index.values"
   ]
  },
  {
   "cell_type": "code",
   "execution_count": null,
   "id": "7d0ed8c4-3e74-4026-a298-8b4e425a045c",
   "metadata": {},
   "outputs": [],
   "source": [
    "sorted_ixs"
   ]
  },
  {
   "cell_type": "markdown",
   "id": "21b735e1-7e76-48ad-a26b-ab894ce759a6",
   "metadata": {},
   "source": [
    "#### Filter the dataset to only use the sorted \"good\" components\n",
    "\n",
    "In the rest of the demo we will only be using the sub-sampled components."
   ]
  },
  {
   "cell_type": "code",
   "execution_count": null,
   "id": "8cd36a17-5ce0-4f22-9926-188398da4e1f",
   "metadata": {},
   "outputs": [],
   "source": [
    "# filter dataset based on sortex indices\n",
    "temporal_data = temporal_data[:,sorted_ixs]\n",
    "contours = [contours[i] for i in sorted_ixs]"
   ]
  },
  {
   "cell_type": "markdown",
   "id": "9def8dfe-a22c-493e-af5c-193605ef6672",
   "metadata": {},
   "source": [
    "#### Plot only the \"good\" components"
   ]
  },
  {
   "cell_type": "code",
   "execution_count": null,
   "id": "e5601468-b974-473e-bee1-16d777afe475",
   "metadata": {},
   "outputs": [],
   "source": [
    "# remove the graphic of all the components\n",
    "nap_figure[\"calcium\"].remove_graphic(contours_graphic)\n",
    "\n",
    "# re-plot only the good ixs\n",
    "contours_graphic = nap_figure[0, 0].add_line_collection(data=contours, colors=\"w\", alpha=0.8)"
   ]
  },
  {
   "cell_type": "markdown",
   "id": "eebcc41f-00ac-4f92-8e43-dcc6bb43fd89",
   "metadata": {},
   "source": [
    "## Visualize all calcium tracing using an `ImageGraphic` to display a Heatmap"
   ]
  },
  {
   "cell_type": "code",
   "execution_count": null,
   "id": "3f7f4329-c1d7-4353-a4c4-b5dfe528e39e",
   "metadata": {},
   "outputs": [],
   "source": [
    "# create a figure, 2 rows, 1 column\n",
    "temporal_fig = fpl.Figure(shape=(2,1), names=[[\"temporal-heatmap\"], [\"tuning-curve\"]])"
   ]
  },
  {
   "cell_type": "code",
   "execution_count": null,
   "id": "913b9a59-6d4f-4462-9cc4-141d28c4b207",
   "metadata": {},
   "outputs": [],
   "source": [
    "# we need to transpose our temporal data so that it is (# components, time (s))\n",
    "raw_temporal = temporal_data.to_numpy().T\n",
    "\n",
    "# use 'hsv' colormap to represent preferred head direction \n",
    "heatmap_graphic = temporal_fig[0,0].add_image(data=raw_temporal, cmap=\"plasma\", name=\"traces\")"
   ]
  },
  {
   "cell_type": "markdown",
   "id": "45319b76-06d3-4a67-89a8-d78de86a50d8",
   "metadata": {},
   "source": [
    "#### Add a `LinearSelector` that we can map to our behavior and calcium videos"
   ]
  },
  {
   "cell_type": "code",
   "execution_count": null,
   "id": "8ddb5617-3343-495d-8d1e-da106644348f",
   "metadata": {},
   "outputs": [],
   "source": [
    "time_selector = heatmap_graphic.add_linear_selector()"
   ]
  },
  {
   "cell_type": "code",
   "execution_count": null,
   "id": "7012b1d9-aabb-45c7-ae4c-0d88d580cb09",
   "metadata": {},
   "outputs": [],
   "source": [
    "component_selector = heatmap_graphic.add_linear_selector(axis=\"y\")"
   ]
  },
  {
   "cell_type": "code",
   "execution_count": null,
   "id": "7e788d6f-ee74-4251-b723-f2afeebe3e91",
   "metadata": {},
   "outputs": [],
   "source": [
    "# subscribe selector to timestore\n",
    "time_store.subscribe(subscriber=time_selector, multiplier=temporal_data.rate)"
   ]
  },
  {
   "cell_type": "markdown",
   "id": "17192833-bd4f-4c68-9cfc-306ca2ae6fe6",
   "metadata": {},
   "source": [
    "#### Let's view everything together"
   ]
  },
  {
   "cell_type": "code",
   "execution_count": null,
   "id": "5943838c-c613-4f8e-b44c-cde2d4dc6b1e",
   "metadata": {},
   "outputs": [],
   "source": [
    "@nap_figure.renderer.add_event_handler(\"resize\")\n",
    "def resize_temporal_fig(ev):\n",
    "    temporal_fig.canvas.set_logical_size(ev.width, 300)\n",
    "\n",
    "sc = Sidecar()\n",
    "\n",
    "with sc:\n",
    "    display(VBox([nap_figure.show(), temporal_fig.show(maintain_aspect=False), synced_time]))"
   ]
  },
  {
   "cell_type": "code",
   "execution_count": null,
   "id": "1891f819-9e20-4cc2-8c9d-3afef9ab1c0d",
   "metadata": {},
   "outputs": [],
   "source": [
    "# select the first component\n",
    "ix = 0\n",
    "\n",
    "# set the first component colors to magenta\n",
    "contours_graphic[ix].colors = \"green\"\n",
    "\n",
    "# get the tuning curve of the first component \n",
    "tuning_ix = sorted_ixs[ix]\n",
    "\n",
    "tuning_curve = tuning_curves.T.iloc[tuning_ix]\n",
    "\n",
    "# add the tuning curve to the plot as a line\n",
    "tuning_graphic = temporal_fig[\"tuning-curve\"].add_line(data=tuning_curve, offset=(0,0,0))\n",
    "temporal_fig[\"tuning-curve\"].auto_scale(maintain_aspect=False)"
   ]
  },
  {
   "cell_type": "markdown",
   "id": "8e7b2e42-cfea-4ae6-b978-ed3e3555626c",
   "metadata": {},
   "source": [
    "### Add an event handler that allows us to \"scroll\" through the traces and tuning curves :D"
   ]
  },
  {
   "cell_type": "code",
   "execution_count": null,
   "id": "b2cc91c6-d0d2-4cdb-8cae-84794ad969a7",
   "metadata": {},
   "outputs": [],
   "source": [
    "tracks_graphic.visible = False"
   ]
  },
  {
   "cell_type": "code",
   "execution_count": null,
   "id": "2cfc80a4-b901-459b-a42f-b3f713a5bdb1",
   "metadata": {},
   "outputs": [],
   "source": [
    "# add an event handler that allows tabbing up and down traces\n",
    "@component_selector.add_event_handler(\"selection\")\n",
    "def update_selected_trace(ev):\n",
    "    ix = ev.get_selected_index()\n",
    "    \n",
    "    # reset the colors of the components to white\n",
    "    contours_graphic.colors = \"w\"\n",
    "\n",
    "    # set the selected component colors to magenta\n",
    "    contours_graphic[ix].colors = \"green\"\n",
    "\n",
    "    nap_figure[\"calcium\"].camera.show_object(contours_graphic[ix].world_object)\n",
    "\n",
    "    # get tuning curve of the selected component\n",
    "    tuning_ix = sorted_ixs[ix]\n",
    "\n",
    "    tuning_curve = tuning_curves.T.iloc[tuning_ix]\n",
    "\n",
    "    # remove the current tuning curve add the new one\n",
    "    #global tuning_graphic\n",
    "    temporal_fig[\"tuning-curve\"].graphics[0].data[:,1] = tuning_curve\n",
    "    temporal_fig[\"tuning-curve\"].auto_scale(maintain_aspect=False)\n",
    "    \n",
    "\n",
    "    #tuning_graphic = tstack_fig[1,0].add_line(data=tuning_curve, offset=(0,0,0))"
   ]
  },
  {
   "cell_type": "markdown",
   "id": "9e7523cd-7031-4a6c-91df-a94414af935b",
   "metadata": {},
   "source": [
    "# Downstream analysis, view a PCA of the calcium"
   ]
  },
  {
   "cell_type": "code",
   "execution_count": null,
   "id": "da240ac5-7eb2-48a1-ac1b-cc11b7582d86",
   "metadata": {},
   "outputs": [],
   "source": [
    "from sklearn.decomposition import PCA\n",
    "from sklearn.preprocessing import RobustScaler"
   ]
  },
  {
   "cell_type": "markdown",
   "id": "136415a4-0da1-450e-913a-2292adc83ea4",
   "metadata": {},
   "source": [
    "#### Perform PCA"
   ]
  },
  {
   "cell_type": "code",
   "execution_count": null,
   "id": "4b55a67d-79af-4b7f-8db8-7f8d289f9144",
   "metadata": {},
   "outputs": [],
   "source": [
    "pca = PCA(n_components=3)\n",
    "\n",
    "rs = RobustScaler()\n",
    "scaled = rs.fit_transform(gaussian_filter1d(temporal_data.to_numpy(), sigma=5))\n",
    "calcium_pca = pca.fit_transform(scaled)"
   ]
  },
  {
   "cell_type": "markdown",
   "id": "513a7fb0-385e-47d9-93a8-a46b52a4a80b",
   "metadata": {},
   "source": [
    "#### Plot the PCA results"
   ]
  },
  {
   "cell_type": "markdown",
   "id": "07fc6338-9b85-4a09-8a7a-3304150026fd",
   "metadata": {},
   "source": [
    "To get a proper colormap transform based on the head angle data, need to interpolate the time scale."
   ]
  },
  {
   "cell_type": "code",
   "execution_count": null,
   "id": "92febe79-0fd9-4717-aa58-c4822a439942",
   "metadata": {},
   "outputs": [],
   "source": [
    "# restrict the head angle data \n",
    "ry_restrict = data[\"ry\"].restrict(data[\"position_time_support\"])"
   ]
  },
  {
   "cell_type": "code",
   "execution_count": null,
   "id": "cf33ccb8-a2bb-4614-b9d3-f0defefc0ef6",
   "metadata": {},
   "outputs": [],
   "source": [
    "x = np.arange(0, temporal_data.shape[0])\n",
    "xp = np.linspace(0, temporal_data.shape[0], ry_restrict.shape[0])\n",
    "\n",
    "# interpolate \n",
    "ry_transform =  np.interp(x, xp, fp=ry_restrict)  # use the y-values"
   ]
  },
  {
   "cell_type": "code",
   "execution_count": null,
   "id": "3e0bd179-a03a-4c00-93cf-1e152b92f7d5",
   "metadata": {},
   "outputs": [],
   "source": [
    "fig_pca = fpl.Figure(\n",
    "    cameras=\"3d\",\n",
    "    controller_types=\"orbit\",\n",
    ")\n",
    "fig_pca[0, 0].add_scatter(calcium_pca, cmap=\"hsv\", cmap_transform=ry_transform, sizes=4, alpha=0.4)\n",
    "marker_graphic = fig_pca[0, 0].add_scatter(calcium_pca[0], sizes=20)\n",
    "\n",
    "fig_pca.show()"
   ]
  },
  {
   "cell_type": "markdown",
   "id": "98d67ce8-020e-494f-92da-f91cf468f2d0",
   "metadata": {},
   "source": [
    "#### Subscribe the PCA marker to the `TimeStore` model"
   ]
  },
  {
   "cell_type": "code",
   "execution_count": null,
   "id": "0f97c06c-c1df-459b-8fd9-a933da854689",
   "metadata": {},
   "outputs": [],
   "source": [
    "# create a `pynapple.TsdFrame` for the PCA data\n",
    "pca_data = nap.TsdFrame(t=temporal_data.t, d=calcium_pca)\n",
    "\n",
    "time_store.subscribe(subscriber=marker_graphic, data=pca_data, multiplier=temporal_data.rate)"
   ]
  },
  {
   "cell_type": "markdown",
   "id": "9fa5cf01-2e65-404a-be24-8d7f288914ba",
   "metadata": {},
   "source": [
    "Can change the controller"
   ]
  },
  {
   "cell_type": "code",
   "execution_count": null,
   "id": "785b396e-7949-42a3-8970-f1934e65cef1",
   "metadata": {},
   "outputs": [],
   "source": [
    "fig_pca[0, 0].controller = \"fly\""
   ]
  },
  {
   "cell_type": "code",
   "execution_count": null,
   "id": "84709bbd-b0d2-4390-93d4-1f77eb79ab36",
   "metadata": {},
   "outputs": [],
   "source": []
  },
  {
   "cell_type": "code",
   "execution_count": null,
   "id": "552ff322-6460-4462-a668-2a590813adae",
   "metadata": {},
   "outputs": [],
   "source": []
  },
  {
   "cell_type": "code",
   "execution_count": null,
   "id": "f8873471-5f6f-4683-aa0f-98001f3946b0",
   "metadata": {},
   "outputs": [],
   "source": []
  },
  {
   "cell_type": "code",
   "execution_count": null,
   "id": "d5bc24a9-713b-4aea-8956-c0f55f3f308c",
   "metadata": {},
   "outputs": [],
   "source": []
  },
  {
   "cell_type": "code",
   "execution_count": null,
   "id": "6b7ec73b-c299-4392-9ea6-7abe87b4b345",
   "metadata": {},
   "outputs": [],
   "source": []
  },
  {
   "cell_type": "code",
   "execution_count": null,
   "id": "899036a1-7002-4c51-acdd-556cfd9b78e8",
   "metadata": {},
   "outputs": [],
   "source": []
  },
  {
   "cell_type": "code",
   "execution_count": null,
   "id": "ddf041eb-a1b1-4637-8a8a-1878dce23aa2",
   "metadata": {},
   "outputs": [],
   "source": []
  },
  {
   "cell_type": "code",
   "execution_count": null,
   "id": "08fd95b7-ab90-47d1-81bd-7c24b12aafcf",
   "metadata": {},
   "outputs": [],
   "source": []
  },
  {
   "cell_type": "code",
   "execution_count": null,
   "id": "2ef45a25-5ccb-4e58-aeca-dccfcea43f97",
   "metadata": {},
   "outputs": [],
   "source": []
  }
 ],
 "metadata": {
  "kernelspec": {
   "display_name": "Python 3 (ipykernel)",
   "language": "python",
   "name": "python3"
  },
  "language_info": {
   "codemirror_mode": {
    "name": "ipython",
    "version": 3
   },
   "file_extension": ".py",
   "mimetype": "text/x-python",
   "name": "python",
   "nbconvert_exporter": "python",
   "pygments_lexer": "ipython3",
   "version": "3.11.9"
  }
 },
 "nbformat": 4,
 "nbformat_minor": 5
}
