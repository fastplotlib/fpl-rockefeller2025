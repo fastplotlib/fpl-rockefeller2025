{
 "cells": [
  {
   "cell_type": "markdown",
   "id": "37e3b5a7-a1f3-4d79-907f-9f0672a33937",
   "metadata": {},
   "source": [
    "# C. Elegans Data \n",
    "\n",
    "#### This notebook goes through an example from the talk of **Phil Kidd's** C. Elegans data, ultimately showing how `fastplotlib` can be used as a tool for examining behavioral data"
   ]
  },
  {
   "cell_type": "code",
   "execution_count": null,
   "id": "d38c3bee-fb84-4415-b8bd-d945cfd05de7",
   "metadata": {},
   "outputs": [],
   "source": [
    "import fastplotlib as fpl\n",
    "import numpy as np\n",
    "import pickle\n",
    "from ipywidgets import HBox, VBox"
   ]
  },
  {
   "cell_type": "markdown",
   "id": "26b2ea0f-f7e1-48db-8ffd-5930031bef35",
   "metadata": {},
   "source": [
    "## Load the data\n",
    "\n",
    "Dataset contains three worm tracks stored in a dictionary with keys \"0\", \"1\", and \"2\". Within each track data respective to each work including the raw images, positions, angular velocity etc."
   ]
  },
  {
   "cell_type": "code",
   "execution_count": null,
   "id": "dc6c8379-1bf5-47aa-a8c1-af577046c907",
   "metadata": {},
   "outputs": [],
   "source": [
    "with open('demodata', 'rb') as f:\n",
    "    data = pickle.load(f)\n",
    "data.keys()"
   ]
  },
  {
   "cell_type": "code",
   "execution_count": null,
   "id": "4d5a5e9b-7a27-4f77-82e1-b5fbdc1aa61d",
   "metadata": {},
   "outputs": [],
   "source": [
    "worm_viewer = fpl.ImageWidget(data=[np.array(data[0][\"images\"]), np.array(data[1][\"images\"]), np.array(data[2][\"images\"])], cmap=\"gray\", figure_kwargs={\"size\": (700, 560)})\n",
    "worm_viewer.show()"
   ]
  },
  {
   "cell_type": "markdown",
   "id": "191dc2e5-ceda-427f-8273-c5faf1ba0d43",
   "metadata": {},
   "source": [
    "## Let's look at an individual track"
   ]
  },
  {
   "cell_type": "code",
   "execution_count": null,
   "id": "5871ccbf-5010-4468-a42a-cf36a01dcb90",
   "metadata": {},
   "outputs": [],
   "source": [
    "track = data[1]"
   ]
  },
  {
   "cell_type": "code",
   "execution_count": null,
   "id": "c9db94bc-e9b3-4ffc-8a76-2f2a9c48bebd",
   "metadata": {},
   "outputs": [],
   "source": [
    "# view the raw images \n",
    "worm_viewer = fpl.ImageWidget(data=np.array(track[\"images\"]), cmap=\"gray\", figure_kwargs={\"size\": (700, 560)})\n",
    "worm_viewer.show()"
   ]
  },
  {
   "cell_type": "markdown",
   "id": "56904d81-c67b-49fd-8c15-c6ae197e9ad8",
   "metadata": {},
   "source": [
    "## View corresponding behavior"
   ]
  },
  {
   "cell_type": "code",
   "execution_count": null,
   "id": "b21f71b9-5aa2-465d-8c40-d768f57c1d22",
   "metadata": {},
   "outputs": [],
   "source": [
    "track_fig = fpl.Figure(names=[[\"Worm track\"]],size=(900,700))"
   ]
  },
  {
   "cell_type": "markdown",
   "id": "80996883-1656-4927-9d66-238af87a6f43",
   "metadata": {},
   "source": [
    "### Define a predetermined code for the behavioral ethogram"
   ]
  },
  {
   "cell_type": "code",
   "execution_count": null,
   "id": "26da82b2-5b3f-444b-a064-5c3b356e0ed8",
   "metadata": {},
   "outputs": [],
   "source": [
    "# color code for ethogram\n",
    "color_dict = {'forward run':'r','short turn':'b','forward curving':'g','omega':'k','pause':'y','reversal':'m','prereversal':'c','unclassified':'gray'}"
   ]
  },
  {
   "cell_type": "markdown",
   "id": "a57affda-d2db-40f4-a705-571f24f1301a",
   "metadata": {},
   "source": [
    "### Define colors using `color_dict`"
   ]
  },
  {
   "cell_type": "code",
   "execution_count": null,
   "id": "b48718c3-fa94-4a60-9c84-a90d4273f96d",
   "metadata": {},
   "outputs": [],
   "source": [
    "# gives us a color for every datapoint, can then apply as a colormap to our line\n",
    "colors = [color_dict[bhv] for bhv in track['behaviors2']]\n",
    "colors[:10]"
   ]
  },
  {
   "cell_type": "markdown",
   "id": "eb434f3f-2fae-4000-aeb2-bcc70e580a62",
   "metadata": {},
   "source": [
    "### Plot the xy position of the work over time"
   ]
  },
  {
   "cell_type": "code",
   "execution_count": null,
   "id": "6720c034-f85a-4b70-baf2-2f1adc3137ee",
   "metadata": {},
   "outputs": [],
   "source": [
    "track_graphic = track_fig[0, 0].add_line(np.column_stack([track['xsc'], track['ysc']]),colors=colors)"
   ]
  },
  {
   "cell_type": "markdown",
   "id": "50161ef9-54fc-4985-aada-6a593bb9a2a5",
   "metadata": {},
   "source": [
    "#### Add a point to track the position over time"
   ]
  },
  {
   "cell_type": "code",
   "execution_count": null,
   "id": "bf861e83-bd54-4211-8fe9-f3d944bb44e2",
   "metadata": {},
   "outputs": [],
   "source": [
    "point = track_fig[0, 0].add_scatter(np.column_stack([track['xsc'][0], track['ysc'][0]]))\n",
    "point.sizes = 10\n",
    "point.colors = 'w'"
   ]
  },
  {
   "cell_type": "markdown",
   "id": "45a9cef6-6d68-4c4d-910d-8a9981854b80",
   "metadata": {},
   "source": [
    "### Plot the concentrations"
   ]
  },
  {
   "cell_type": "code",
   "execution_count": null,
   "id": "611644b4-5e06-48cc-8748-1d1b9998bb53",
   "metadata": {},
   "outputs": [],
   "source": [
    "data_fig = fpl.Figure(names=[[\"Concentration plot\"]], size=(600, 300))\n",
    "data_graphic = data_fig[0, 0].add_line(np.column_stack([np.array(track['times']), np.array(track[\"xsc\"])]),colors=colors)"
   ]
  },
  {
   "cell_type": "code",
   "execution_count": null,
   "id": "158ebb9a-57dc-43bf-aa3a-65dfa9422edf",
   "metadata": {},
   "outputs": [],
   "source": [
    "# add a linear selector\n",
    "selector = data_graphic.add_linear_selector()"
   ]
  },
  {
   "cell_type": "markdown",
   "id": "2d6b1c51-bd1b-464c-be81-44fc01960fa4",
   "metadata": {},
   "source": [
    "### Add an event handler to update the data"
   ]
  },
  {
   "cell_type": "code",
   "execution_count": null,
   "id": "bbdbe6d0-8fe2-401f-8cf8-450d57aab1a7",
   "metadata": {},
   "outputs": [],
   "source": [
    "def change_point(ev):\n",
    "    global point\n",
    "    global selector\n",
    "    ix = ev['t']\n",
    "    # update the xy position of the point \n",
    "    point.data = np.array([track['xsc'][ix], track['ysc'][ix], 0])\n",
    "    # update the selection of the linear selector\n",
    "    selector.selection = track['times'][ix]"
   ]
  },
  {
   "cell_type": "code",
   "execution_count": null,
   "id": "92244de2-393a-44fa-be54-7a3632710e9e",
   "metadata": {},
   "outputs": [],
   "source": [
    "worm_viewer.add_event_handler(change_point)"
   ]
  },
  {
   "cell_type": "markdown",
   "id": "19292788-8f0e-4a6e-8285-c71d3af38ef7",
   "metadata": {},
   "source": [
    "## View the plots"
   ]
  },
  {
   "cell_type": "code",
   "execution_count": null,
   "id": "205b88fb-2fb4-412b-8f6a-d41628824d30",
   "metadata": {},
   "outputs": [],
   "source": [
    "HBox([VBox([track_fig.show(), data_fig.show(maintain_aspect=False)]), worm_viewer.show()])"
   ]
  },
  {
   "cell_type": "code",
   "execution_count": null,
   "id": "07d01ba7-f7a7-4604-b168-18fc3686fdcb",
   "metadata": {},
   "outputs": [],
   "source": []
  },
  {
   "cell_type": "code",
   "execution_count": null,
   "id": "4cf94dae-5a0d-4494-85aa-e3c8024ad954",
   "metadata": {},
   "outputs": [],
   "source": []
  },
  {
   "cell_type": "code",
   "execution_count": null,
   "id": "9f17bf24-f6ff-4ad0-9e4b-3302dbb5dcc3",
   "metadata": {},
   "outputs": [],
   "source": []
  }
 ],
 "metadata": {
  "kernelspec": {
   "display_name": "Python 3 (ipykernel)",
   "language": "python",
   "name": "python3"
  },
  "language_info": {
   "codemirror_mode": {
    "name": "ipython",
    "version": 3
   },
   "file_extension": ".py",
   "mimetype": "text/x-python",
   "name": "python",
   "nbconvert_exporter": "python",
   "pygments_lexer": "ipython3",
   "version": "3.11.11"
  }
 },
 "nbformat": 4,
 "nbformat_minor": 5
}
